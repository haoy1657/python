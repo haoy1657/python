{
 "cells": [
  {
   "cell_type": "markdown",
   "source": [
    "# TD/TP 2 : Manipuler les tableaux et les chaines de charactères"
   ],
   "metadata": {}
  },
  {
   "cell_type": "markdown",
   "source": [
    "## 1. Fonctions et passage de paramètres :\n",
    "**Défi 1 : qu'affiche le programme ci-dessous ?**\n",
    "    \n",
    "    def A ( x ) :\n",
    "        x = x + 1\n",
    "        print ( \"A => \", x[0] )\n",
    "        return x\n",
    "\n",
    "    def B ( x ) :\n",
    "        x = x + 1\n",
    "        print ( \"B => 1er affichage : \", x )\n",
    "        A( x )\n",
    "        print ( \"B => 2eme affichage : \", x )\n",
    "        return x\n",
    "\n",
    "    def C ( x ) :\n",
    "        x = 3\n",
    "        A( x )\n",
    "        print ( \"C => 1er affichage : \", x )\n",
    "        x = B( x )\n",
    "        print ( \"C => 2eme affichage : \", x )\n",
    "        return x\n",
    "\n",
    "    x = 5\n",
    "    C( x )\n",
    "    print ( \" main : \", x )"
   ],
   "metadata": {}
  },
  {
   "cell_type": "code",
   "execution_count": 24,
   "source": [
    "# vérification de votre réponse au défi 1\n",
    "\n",
    "\n",
    "# Erreur à cause de la defintion de A : \n",
    "# si x est de type int , l'operation x[0] donnera lieu a une erreur \n",
    "# si x est une liste , l'operation x+= 1 donnera aussi lieu a une erreur "
   ],
   "outputs": [],
   "metadata": {}
  },
  {
   "cell_type": "markdown",
   "source": [
    "**Défi 2 : qu'affiche le programme ci-dessous ?** \n",
    "\n",
    "_Expliquer la différence fondamentale qui existe entre ce programme et le précédent._\n",
    "\n",
    "    def A ( x ) :\n",
    "        x[0] = x[0] + 1\n",
    "        print ( \"A => \", x[0] )\n",
    "        return x[0]\n",
    "\n",
    "    def B ( x ) :\n",
    "        x[0] = x[0] + 1\n",
    "        print ( \"B => 1er affichage : \", x[0] )\n",
    "        A( x )\n",
    "        print ( \"B => 2eme affichage : \", x[0] )\n",
    "        return x[0]\n",
    "\n",
    "    def C ( x ) :\n",
    "        x[0] = 3\n",
    "        A( x )\n",
    "        print ( \"C => 1er affichage : \", x[0] )\n",
    "        x = B( x )\n",
    "        print ( \"C => 2eme affichage : \", x[0] )\n",
    "        return x[0]\n",
    "\n",
    "    x = [5]\n",
    "    C( x )\n",
    "    print ( \" main : \", x )"
   ],
   "metadata": {}
  },
  {
   "cell_type": "code",
   "execution_count": 25,
   "source": [
    "# vérification de votre réponse au défi 2\n",
    " # Cette fois ci , si l'on prend x comme etant de type 'list' , l'opération \n",
    " # x = x + 1 est remplacée par x[0] = x[0] + 1  , c'est a dire qu'on effectue une\n",
    " # operation d'addition sur l'element 0 au lieu de toute la liste , ce qui n'a pas de\n",
    " # sens \"\"\"\n",
    "\n",
    " \n",
    " "
   ],
   "outputs": [],
   "metadata": {}
  },
  {
   "cell_type": "markdown",
   "source": [
    "## 2. Tri dans un tableau\n",
    "On se donne un tableau d'entiers que l'on souhaite trier (par ordre croissant, par exemple)\n",
    "\n",
    "**2.1 Tri par sélection**\n",
    "\n",
    "Le principe de cet algorithme est simple et intuitif. La première étape consiste à rechercher l'élément le plus petit dans le tableau, puis à échanger cet élément avec celui contenu dans la première case du tableau. On recommence ensuite cette opération sur le reste du tableau (à partir de la deuxième case), et ainsi de suite jusqu'à ce que tous les éléments du tableau soient correctement placés. La figure ci-dessous montre le principe de l'algorithme sur un exemple.\n",
    "\n",
    "![title](img/triSelection.png)\n",
    "    \n",
    "**a.** Ecrire une fonction _echangePositions( t, i, j)_ qui échange le contenu de deux cases d'un tableau. Les paramètres d'entrée de la fonction sont : le nom du tableau _t_, les indices _i_ et _j_ des cases dont il faut échanger les contenus. \n",
    "\n",
    "Ecrire quelques instructions pour tester le fonctionnement de _echangePositions_."
   ],
   "metadata": {}
  },
  {
   "cell_type": "code",
   "execution_count": 26,
   "source": [
    "# Fonction echangePositions\n",
    "def echangePositions(t,i,j) : \n",
    "    k = t[i] # Stockage \n",
    "    t[i] = t[j] \n",
    "    t[j] = k \n",
    "    \n",
    "    return t \n",
    "\n",
    "\n",
    "# Test de la fonction echangePositions\n",
    "t = [i for i in range(6)]\n",
    "echangePositions(t,0,4)\n",
    "\n"
   ],
   "outputs": [
    {
     "output_type": "execute_result",
     "data": {
      "text/plain": [
       "[4, 1, 2, 3, 0, 5]"
      ]
     },
     "metadata": {},
     "execution_count": 26
    }
   ],
   "metadata": {}
  },
  {
   "cell_type": "markdown",
   "source": [
    "**b.** Ecrire une fonction _positionPlusPetit( t, p)_ qui renvoie la position du plus petit élément d'un tableau, à partir d'une position donnée. Les paramètres d'entrée de la fonction sont : le nom du tableau _t_, l'indice _p_ à partir duquel il faut rechercher le plus petit élément. \n",
    "\n",
    "Ecrire quelques instructions pour tester le fonctionnement de _positionPlusPetit_."
   ],
   "metadata": {}
  },
  {
   "cell_type": "code",
   "execution_count": 27,
   "source": [
    "# Fonction positionPlusPetit\n",
    "def postionPlusPetit(t,p) : \n",
    "    tableau =  t[p::]#toutes les cases à partir de l'indice p \n",
    "    petit = min(tableau)\n",
    "    position = tableau.index(petit)\n",
    "    return print(\"le plus petit élement est à la position : \",position)\n",
    "\n",
    "\n",
    "t  = [4,3,8,99,10,45,22,-6,2,1,-7,0,8]\n",
    "postionPlusPetit(t,3)"
   ],
   "outputs": [
    {
     "output_type": "stream",
     "name": "stdout",
     "text": [
      "le plus petit élement est à la position :  7\n"
     ]
    }
   ],
   "metadata": {}
  },
  {
   "cell_type": "code",
   "execution_count": 28,
   "source": [
    "# Fonction positionPlusPetit customisée pour la question suivante \n",
    "\n",
    "def postionPlusPetit2(t) : \n",
    "    petit = min(t)\n",
    "    position = t.index(petit)\n",
    "    del t[position] # Suppression de l'element le + petit\n",
    "    return petit \n",
    "\n",
    "# La fonction viendra modifer t en lui enlevant l'element le plus petit "
   ],
   "outputs": [],
   "metadata": {}
  },
  {
   "cell_type": "markdown",
   "source": [
    "c. Ecrire une fonction _triTableau( t )_ qui trie les éléments d'un tableau _t_ par ordre croissant, suivant l'algorithme suivant :\n",
    "\n",
    "    Algorithme 1 : tri par sélection\n",
    "    Pour toutes les positions p du tableau, faire :\n",
    "        Chercher la position m du plus petit élément du tableau à partir de p\n",
    "        Echanger (si nécessaire) les éléments des positions p et m\n",
    "\n",
    "Tester le fonctionnement de la fonction _triTableau_."
   ],
   "metadata": {}
  },
  {
   "cell_type": "code",
   "execution_count": 29,
   "source": [
    "# Avec sorted\n",
    "def triTableau1(t) : \n",
    "    tri = sorted(t)\n",
    "    return tri \n",
    "\n",
    "t  = [ 77,3,8,99,10,45,22,-6,2,1,-7,0, 8 ]\n",
    "triTableau1(t)"
   ],
   "outputs": [
    {
     "output_type": "execute_result",
     "data": {
      "text/plain": [
       "[-7, -6, 0, 1, 2, 3, 8, 8, 10, 22, 45, 77, 99]"
      ]
     },
     "metadata": {},
     "execution_count": 29
    }
   ],
   "metadata": {}
  },
  {
   "cell_type": "code",
   "execution_count": 30,
   "source": [
    "# Fonction triTableau\n",
    "def  triTableau(t) : \n",
    "   # On va rechercher successivement l'element le plus petit     \n",
    "   return [postionPlusPetit2(t) for i in range(len(t)) ]\n",
    "        \n",
    "\n",
    "# Test de la fonction triTableau\n",
    "t  = [ 77,3,8,99,10,45,22,-6,2,1,-7,0, 8 ]\n",
    "triTableau(t)"
   ],
   "outputs": [
    {
     "output_type": "execute_result",
     "data": {
      "text/plain": [
       "[-7, -6, 0, 1, 2, 3, 8, 8, 10, 22, 45, 77, 99]"
      ]
     },
     "metadata": {},
     "execution_count": 30
    }
   ],
   "metadata": {}
  },
  {
   "cell_type": "markdown",
   "source": [
    "**2.2 Tri à bulles**\n",
    "\n",
    "Toujours aussi intuitivement, l'idée est de comparer successivement tous les éléments adjacents d'un tableau et de les échanger si le premier est supérieur au second. On recommence cette opération tant que tous les éléments ne sont pas triés.\n",
    "\n",
    "![title](triBulle.png)\n",
    "\n",
    "Dans l'exemple ci-dessus, on peut remarquer qu'après le premier balayage du tableau l'élément le plus grand se retrouve dans la dernière case. Au second passage, on peut donc limiter les tests d'échange en ne testant pas la dernière case. Ceci est valable à chaque passage, de sorte que la longueur de tableau traitée diminue à chaque itération.\n",
    "\n",
    "Ecrire une fonction _triABulle_ qui trie les éléments d'un tableau par ordre croissant, suivant l'algorithme suivant :\n",
    "\n",
    "    Algorithme 2 : tri à bulle\n",
    "    Tant que le tableau n'est pas trié, faire :\n",
    "        Pour tout couple d'éléments adjacents a et b, faire :\n",
    "            Sia>b, alors :\n",
    "                Echanger a et b"
   ],
   "metadata": {}
  },
  {
   "cell_type": "code",
   "execution_count": 60,
   "source": [
    "# Fonction triABulle\n",
    "def triABulle(t) : \n",
    "    c = 1 # Compteur \n",
    "    while c != 0 : \n",
    "        c = 0 # A la fin du for n c prendra 0 et on sortira du while\n",
    "        for k in range( len(t) - 1  ) : \n",
    "            \n",
    "            if t[k] > t[k+1] :\n",
    "                echangePositions(t,k,k+1)\n",
    "                c+=1 \n",
    "        \n",
    "    return t \n",
    "        \n",
    "# Test de la fonction triABulle\n",
    "t  = [ 77,3,8,99,10,45,22,-6,2,1,-7,0, 8 ]\n",
    "triABulle(t)\n",
    "\n"
   ],
   "outputs": [
    {
     "output_type": "execute_result",
     "data": {
      "text/plain": [
       "[-7, -6, 0, 1, 2, 3, 8, 8, 10, 22, 45, 77, 99]"
      ]
     },
     "metadata": {},
     "execution_count": 60
    }
   ],
   "metadata": {}
  },
  {
   "cell_type": "markdown",
   "source": [
    "### 3. Manipulation de chaînes de caractères\n",
    "Dans cette série d'exercices, on s'intéresse à la manipulation de chaînes de caractères (comptage de caractères, suppression de caractère, _etc_ ).\n",
    "\n",
    "**3.1 Comptage de lettres :** \n",
    "\n",
    "a. Ecrire une fonction _combienDeFoisLaLettre( phrase, lettre )_ dont les paramètres d'entrée sont une chaine de caractères _phrase_ et un caractère _lettre_ , et qui renvoie le nombre de fois où _lettre_ est contenu dans _phrase_. \n",
    "Tester la fonction _combienDeFoisLaLettre_.\n",
    "\n",
    "b. Rechercher dans la documentation python la fonction native qui fait la même chose que _combienDeFoisLaLettre_.\n",
    "https://docs.python.org/3/library/stdtypes.html#string-methods"
   ],
   "metadata": {}
  },
  {
   "cell_type": "code",
   "execution_count": 7,
   "source": [
    "# Fonction combienDeFoisLaLettre\n",
    "def Lettre(Phrase,lettre) : \n",
    "    k = 0\n",
    "    for i in range(len(Phrase)) : \n",
    "        if Phrase[i] == lettre :  k += 1\n",
    "    return print(\"la lettre\",lettre,\"apparait\",k,\"fois\") \n",
    "\n",
    "# Test de la fonction combienDeFoisLaLettre\n",
    "Phrase = ('Principe fondamental de la dynamique') ;  lettre = ('a')\n",
    "\n",
    "# Fonction native\n",
    "Lettre(Phrase,lettre)\n",
    "Phrase.count('a') \n"
   ],
   "outputs": [
    {
     "output_type": "stream",
     "name": "stdout",
     "text": [
      "la lettre a apparait 4 fois\n"
     ]
    },
    {
     "output_type": "execute_result",
     "data": {
      "text/plain": [
       "4"
      ]
     },
     "metadata": {},
     "execution_count": 7
    }
   ],
   "metadata": {}
  },
  {
   "cell_type": "markdown",
   "source": [
    "**3.2 Suppression d'un caractère :** \n",
    "\n",
    "a. Ecrire une fonction _supprCar( phrase, lettre )_ dont les paramètres d'entrée sont une chaine de caractères _phrase_ et un caractère _lettre_ , et qui renvoie la chaine de caractère modifiée. \n",
    "Tester la fonction _supprCar_.\n",
    "\n",
    "b. Rechercher dans la documentation python s'il existe une fonction native qui fait la même chose que _supprCar_."
   ],
   "metadata": {}
  },
  {
   "cell_type": "code",
   "execution_count": 64,
   "source": [
    "import re\n",
    "def Supprimer(phrase , lettre ) : \n",
    "       phrase = re.sub(lettre,' ', phrase) \n",
    "       \n",
    "     \n",
    "       return phrase\n",
    "    \n",
    "Supprimer('Principe fondamental de la dynamique' , 'd')"
   ],
   "outputs": [
    {
     "output_type": "execute_result",
     "data": {
      "text/plain": [
       "'Principe fon amental  e la  ynamique'"
      ]
     },
     "metadata": {},
     "execution_count": 64
    }
   ],
   "metadata": {}
  },
  {
   "cell_type": "code",
   "execution_count": 65,
   "source": [
    "# Fonction supprCar\n",
    "\n",
    "# Fonction native\n",
    "\n",
    "phrase = ('Principe fondamental de la dynamique')\n",
    "print(phrase.replace('d' , '' ))\n"
   ],
   "outputs": [
    {
     "output_type": "stream",
     "name": "stdout",
     "text": [
      "Principe fonamental e la ynamique\n"
     ]
    }
   ],
   "metadata": {}
  },
  {
   "cell_type": "markdown",
   "source": [
    "**3.3 Comptage de mots :** \n",
    "\n",
    "Ecrire une fonction _combienDeMots( phrase )_ qui compte et renvoie le nombre de mots dans une phrase. On considère que les mots ne peuvent être séparés que par des espaces (_i.e._ pas de saut de ligne ou de tabulation). Pour cela, s'appuyer sur les fonctions associées au type String.\n",
    "\n",
    "Tester la fonction _combienDeMots_. "
   ],
   "metadata": {}
  },
  {
   "cell_type": "code",
   "execution_count": 19,
   "source": [
    "# Fonction combienDeMots\n",
    "def combienDeMots(phrase) : \n",
    "    sep = phrase.split() \n",
    "    Count = len(sep)\n",
    "    return Count \n",
    "\n",
    "\n",
    "# Test de la fonction combienDeMots\n",
    "\n",
    "phrase = (\"Bonjour à tous et à toutes\")\n",
    "combienDeMots(phrase)"
   ],
   "outputs": [
    {
     "output_type": "execute_result",
     "data": {
      "text/plain": [
       "6"
      ]
     },
     "metadata": {},
     "execution_count": 19
    }
   ],
   "metadata": {}
  },
  {
   "cell_type": "markdown",
   "source": [
    "## 4. CODINGAME\n",
    "Afin de vous aider dans votre apprentissage de la synthaxe Python, voici une liste d'exercice sur CodinGame\n",
    "que vous pouvez résoudre :\n",
    "\n",
    "**1. Puzzles faciles :**\n",
    "\n",
    "- Onboarding\n",
    "- Thor\n",
    "- Temperatures\n",
    "- The Descent\n",
    "- Horse-Racing (+ Hyperduals)\n",
    "- May the triforce be with you (Suite de l'exercice sur l'affichage de pyramides)\n",
    "- Darts\n",
    "- Jack Silver : The Casino\n",
    "- Lumen\n",
    "\n",
    "**2. Puzzles moyens :**\n",
    "\n",
    "- Shadows of the Knight\n",
    "- Pertes en bourse\n",
    "- Le jeu de la vie\n",
    "- Porcupine Fever\n",
    "- Gravité\n",
    "- Nombre d'échange minimum\n",
    "- Magic square\n",
    "\n",
    "Cette liste est bien évidemment non exhaustive et vous pouvez essayer de résoudre d'autres puzzles proposés\n",
    "sur ce site."
   ],
   "metadata": {}
  },
  {
   "cell_type": "code",
   "execution_count": null,
   "source": [],
   "outputs": [],
   "metadata": {}
  }
 ],
 "metadata": {
  "kernelspec": {
   "name": "python3",
   "display_name": "Python 3.8.8 64-bit ('base': conda)"
  },
  "language_info": {
   "codemirror_mode": {
    "name": "ipython",
    "version": 3
   },
   "file_extension": ".py",
   "mimetype": "text/x-python",
   "name": "python",
   "nbconvert_exporter": "python",
   "pygments_lexer": "ipython3",
   "version": "3.8.8"
  },
  "interpreter": {
   "hash": "6aa1a8b2ed28e89771df5352948886da4de96dc4e60e47b144f18524ed7d54c2"
  }
 },
 "nbformat": 4,
 "nbformat_minor": 2
}
