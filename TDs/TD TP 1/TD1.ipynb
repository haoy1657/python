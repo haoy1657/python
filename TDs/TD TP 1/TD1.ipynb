{
 "cells": [
  {
   "cell_type": "markdown",
   "metadata": {},
   "source": [
    "# TD/TP 1 : Démarrer en python"
   ]
  },
  {
   "cell_type": "markdown",
   "metadata": {},
   "source": [
    "### 1. Types de variables"
   ]
  },
  {
   "cell_type": "markdown",
   "metadata": {},
   "source": [
    "**1.1** Les instructions suivantes créent et initialisent les variables n, p et x. Quels sont les types de ces trois variables ?\n",
    "\n",
    "    n = 10 \n",
    "    p = 7 \n",
    "    x = 2. "
   ]
  },
  {
   "cell_type": "markdown",
   "metadata": {},
   "source": [
    "**1.2** Compléter et exécuter les cellules ci-dessous de façon à vérifier vos réponses."
   ]
  },
  {
   "cell_type": "code",
   "execution_count": null,
   "metadata": {},
   "outputs": [],
   "source": [
    "# instruction pour créer n \n",
    "\n",
    "# instruction pour afficher la valeur de n\n",
    "\n",
    "# instruction pour renvoyer le type de n\n"
   ]
  },
  {
   "cell_type": "code",
   "execution_count": null,
   "metadata": {},
   "outputs": [],
   "source": [
    "# instruction pour créer p\n",
    "\n",
    "# instruction pour afficher la valeur de p\n",
    "\n",
    "# instruction pour renvoyer le type de p\n"
   ]
  },
  {
   "cell_type": "code",
   "execution_count": null,
   "metadata": {
    "scrolled": true
   },
   "outputs": [],
   "source": [
    "# instruction pour créer x \n",
    "\n",
    "# instruction pour afficher la valeur de x\n",
    "\n",
    "# instruction pour renvoyer le type de x\n"
   ]
  },
  {
   "cell_type": "markdown",
   "metadata": {},
   "source": [
    "**1.3** Donner le type et la valeur des expressions suivantes :\n",
    "\n",
    "       a. x+n/p\n",
    "       b. (x+n)/p\n",
    "       c. 5. * n\n",
    "       d. (n + 1) / n\n",
    "       e. (n + 1) // n\n",
    "       f. (n + 1.) // n\n",
    "    \n",
    "Vérifiez vos résultats en exécutant les instructions dans la cellule ci-dessous."
   ]
  },
  {
   "cell_type": "code",
   "execution_count": null,
   "metadata": {},
   "outputs": [],
   "source": [
    "# instructions pour vérifier les réponses de la question a\n"
   ]
  },
  {
   "cell_type": "code",
   "execution_count": null,
   "metadata": {},
   "outputs": [],
   "source": [
    "# instructions pour vérifier les réponses de la question b\n"
   ]
  },
  {
   "cell_type": "code",
   "execution_count": null,
   "metadata": {},
   "outputs": [],
   "source": [
    "# instructions pour vérifier les réponses de la question c\n"
   ]
  },
  {
   "cell_type": "code",
   "execution_count": null,
   "metadata": {},
   "outputs": [],
   "source": [
    "# instructions pour vérifier les réponses de la question d\n"
   ]
  },
  {
   "cell_type": "code",
   "execution_count": null,
   "metadata": {},
   "outputs": [],
   "source": [
    "# instructions pour vérifier les réponses de la question e\n"
   ]
  },
  {
   "cell_type": "code",
   "execution_count": null,
   "metadata": {},
   "outputs": [],
   "source": [
    "# instructions pour vérifier les réponses de la question f\n"
   ]
  },
  {
   "cell_type": "markdown",
   "metadata": {},
   "source": [
    "### 2. Entrées / sorties"
   ]
  },
  {
   "cell_type": "markdown",
   "metadata": {},
   "source": [
    "**2.1** Ecrire un programme qui demande à l’utilisateur un entier puis l’affiche. Un exemple d’éxécution est donné ci-dessous :\n",
    "\n",
    "    Veuillez entrer un entier : 42\n",
    "    Vous avez saisi 42"
   ]
  },
  {
   "cell_type": "code",
   "execution_count": null,
   "metadata": {},
   "outputs": [],
   "source": [
    "# bloc d'instructions à compléter et à exécuter\n"
   ]
  },
  {
   "cell_type": "markdown",
   "metadata": {},
   "source": [
    "**2.2** Compléter le programme précédent pour qu’il demande aussi un réel puis affiche les 2 valeurs saisies. Un exemple d’exécution est donné ci-dessous :\n",
    "\n",
    "    Veuillez entrer un entier : 42\n",
    "    Veuillez entrer un réel : 13.37\n",
    "    Vous avez saisi 42 et 13.37"
   ]
  },
  {
   "cell_type": "code",
   "execution_count": null,
   "metadata": {},
   "outputs": [],
   "source": [
    "# bloc d'instructions à compléter et à exécuter\n"
   ]
  },
  {
   "cell_type": "markdown",
   "metadata": {},
   "source": [
    "**2.3** Ecrire un programme qui demande à l’utilisateur un charactère puis affiche le caractère et son code ASCII. On rappelle que le code ASCII d’une lettre correspond à un entier donnant sa position dans la table ASCII ; on pourra l’obtenir par l’appel à la fonction ord. Un exemple d’exécution est donné ci-dessous :\n",
    "\n",
    "    Veuillez entrer un charactère : b\n",
    "    Vous avez saisi b dont le code ASCII est 98"
   ]
  },
  {
   "cell_type": "code",
   "execution_count": null,
   "metadata": {},
   "outputs": [],
   "source": [
    "# bloc d'instructions à compléter et à exécuter\n"
   ]
  },
  {
   "cell_type": "markdown",
   "metadata": {},
   "source": [
    "### 3. Structures de contrôle\n",
    "\n",
    "**3.1** Ecrire un programme qui demande un nombre à l'utilisateur et teste si ce nombre est positif."
   ]
  },
  {
   "cell_type": "code",
   "execution_count": null,
   "metadata": {},
   "outputs": [],
   "source": [
    "# bloc d'instructions à compléter et à exécuter\n"
   ]
  },
  {
   "cell_type": "markdown",
   "metadata": {},
   "source": [
    "**3.2** Ecrire un programme qui demande un nombre à l’utilisateur et teste si ce nombre est strictement positif, nul\n",
    "ou strictement négatif."
   ]
  },
  {
   "cell_type": "code",
   "execution_count": null,
   "metadata": {},
   "outputs": [],
   "source": [
    "# bloc d'instructions à compléter et à exécuter\n"
   ]
  },
  {
   "cell_type": "markdown",
   "metadata": {},
   "source": [
    "**3.3** Ecrire un programme qui demande une année et affiche si celle-ci est bissextile ou non. Les années bissextiles\n",
    "sont les années : soit divisibles par 4 mais non divisibles par 100, soit divisibles par 400."
   ]
  },
  {
   "cell_type": "code",
   "execution_count": null,
   "metadata": {},
   "outputs": [],
   "source": [
    "# bloc d'instructions à compléter et à exécuter\n"
   ]
  },
  {
   "cell_type": "markdown",
   "metadata": {},
   "source": [
    "### 4. Fonctions, boucles et premiers algorithmes"
   ]
  },
  {
   "cell_type": "markdown",
   "metadata": {},
   "source": [
    "**4.1** Ecrire une _fonction_ qui calcule et renvoie la somme des N premiers entiers. N est un paramètre d'entrée de la fonction. Tester la fonction sur quelques exemples. Un exemple d’éxécution est donné ci-dessous :\n",
    "\n",
    "    Veuillez entrer un entier : 5\n",
    "    La somme des 5 premiers entiers est 15"
   ]
  },
  {
   "cell_type": "code",
   "execution_count": null,
   "metadata": {},
   "outputs": [],
   "source": [
    "# bloc d'instructions à compléter et à exécuter\n"
   ]
  },
  {
   "cell_type": "markdown",
   "metadata": {},
   "source": [
    "**4.2** Ecrire une _fonction_ qui calcule et renvoie N!, où N est un paramètre d'entrée de la fonction. Tester la fonction sur quelques exemples. Un exemple d’éxécution est donné ci-dessous :\n",
    "\n",
    "    Veuillez entrer un entier : 5\n",
    "    5! = 120"
   ]
  },
  {
   "cell_type": "code",
   "execution_count": null,
   "metadata": {},
   "outputs": [],
   "source": [
    "# bloc d'instructions à compléter et à exécuter\n"
   ]
  },
  {
   "cell_type": "markdown",
   "metadata": {},
   "source": [
    "**4.3** Ecrire une _fonction_ qui calcule et renvoie x^N, où x et N sont des paramètres d'entrée de la fonction. Tester la fonction sur quelques exemples. Un exemple d’éxécution est donné ci-dessous :\n",
    "\n",
    "    Veuillez entrer un réel : 2.5\n",
    "    Veuillez entrer un entier positif : 3\n",
    "    2.5^3 = 15.625"
   ]
  },
  {
   "cell_type": "code",
   "execution_count": null,
   "metadata": {},
   "outputs": [],
   "source": [
    "# bloc d'instructions à compléter et à exécuter\n"
   ]
  },
  {
   "cell_type": "markdown",
   "metadata": {},
   "source": [
    "**4.4** Ecrire une _fonction_ qui utilise le développement en série de exp pour calculer une valeur approchée de exp(x), avec une précision donnée eps = 10^(-n). x et n sont les paramètres d'entrée de la fonction. La fonction renvoie la valeur de exp(x) ainsi que le nombre de termes du développement en série utilisé pour la précision considérée. Tester la fonction sur quelques exemples. Vérifier vos résultats avec la fonction native _exp_. Un exemple d’éxécution est donné ci-dessous :\n",
    "\n",
    "    Calcul de exp(x) à 10^-n près :\n",
    "    Veuillez entrer x : 2.\n",
    "    Veuillez entrer n : 3 \n",
    "    Résultat : exp(2.0) = \n",
    "    exp(2.0) = 7.3887125220458545 - calcul avec 10 terme(s)\n",
    "    Vérification : math.exp(x) = 7.38905609893065"
   ]
  },
  {
   "cell_type": "code",
   "execution_count": null,
   "metadata": {},
   "outputs": [],
   "source": [
    "# bloc d'instructions à compléter et à exécuter\n"
   ]
  },
  {
   "cell_type": "markdown",
   "metadata": {},
   "source": [
    "### 5. Boucles imbriquées"
   ]
  },
  {
   "cell_type": "markdown",
   "metadata": {},
   "source": [
    "**5.1** Ecrire une fonction qui affiche un échiquier de largeur N, où N est un paramètre d'entrée de la fonction. L'échiquier est un carré de côté N, dessiné avec les conventions suivantes : (a) les cases noires sont représentées par un ”X” et les cases blanches par ” ”, (b) le tour de l’échiquier et de chaque case est représenté par les caractères + (coin), | (ligne verticale) et - (ligne horizontale). \n",
    "\n",
    "Tester la fonction sur quelques exemples. Un exemple d’affichage est  montré ci-dessous ( échiquier 4x4) :\n",
    "\n",
    "    Veuillez entrer un entier : 4\n",
    "    Voici un échiquier 4x4\n",
    "    +---+---+---+---+\n",
    "    |   | X |   | X |\n",
    "    +---+---+---+---+\n",
    "    | X |   | X |   |\n",
    "    +---+---+---+---+\n",
    "    |   | X |   | X |\n",
    "    +---+---+---+---+\n",
    "    | X |   | X |   |\n",
    "    +---+---+---+---+"
   ]
  },
  {
   "cell_type": "code",
   "execution_count": null,
   "metadata": {},
   "outputs": [],
   "source": [
    "# bloc d'instructions à compléter et à exécuter\n"
   ]
  },
  {
   "cell_type": "markdown",
   "metadata": {},
   "source": [
    "**5.2** Ecrire une fonction qui affiche une pyramide droite de N lignes composées d'un caractère c, où N et c sont des paramètres d'entrée de la fonction. \n",
    "Tester la fonction sur quelques exemples. Un exemple d’affichage est  montré ci-dessous :\n",
    "\n",
    "    Veuillez entrer un entier : 4\n",
    "    Veuillez entrer un caractère : h\n",
    "    Voici la pyramide :\n",
    "    h\n",
    "    hh\n",
    "    hhh\n",
    "    hhhh"
   ]
  },
  {
   "cell_type": "code",
   "execution_count": null,
   "metadata": {},
   "outputs": [],
   "source": [
    "# bloc d'instructions à compléter et à exécuter\n"
   ]
  }
 ],
 "metadata": {
  "kernelspec": {
   "display_name": "Python 3",
   "language": "python",
   "name": "python3"
  },
  "language_info": {
   "codemirror_mode": {
    "name": "ipython",
    "version": 3
   },
   "file_extension": ".py",
   "mimetype": "text/x-python",
   "name": "python",
   "nbconvert_exporter": "python",
   "pygments_lexer": "ipython3",
   "version": "3.7.3"
  }
 },
 "nbformat": 4,
 "nbformat_minor": 2
}
