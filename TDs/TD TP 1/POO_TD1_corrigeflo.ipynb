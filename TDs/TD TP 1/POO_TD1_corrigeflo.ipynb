{
 "cells": [
  {
   "cell_type": "markdown",
   "metadata": {},
   "source": [
    "# TD/TP 1 : Démarrer en python"
   ]
  },
  {
   "cell_type": "markdown",
   "metadata": {},
   "source": [
    "### 1. Types de variables"
   ]
  },
  {
   "cell_type": "markdown",
   "metadata": {},
   "source": [
    "**1.1** Les instructions suivantes créent et initialisent les variables n, p et x. Quels sont les types de ces trois variables ?\n",
    "\n",
    "    n = 10 \n",
    "    p = 7 \n",
    "    x = 2. "
   ]
  },
  {
   "cell_type": "markdown",
   "metadata": {},
   "source": [
    "**1.2** Compléter et exécuter les cellules ci-dessous de façon à vérifier vos réponses."
   ]
  },
  {
   "cell_type": "code",
   "execution_count": 81,
   "metadata": {},
   "outputs": [
    {
     "name": "stdout",
     "output_type": "stream",
     "text": [
      "n =  10\n",
      "type(n) =  <class 'int'>\n"
     ]
    }
   ],
   "source": [
    "n = 10\n",
    "print('n = ', n)\n",
    "print('type(n) = ', type(n))"
   ]
  },
  {
   "cell_type": "code",
   "execution_count": 82,
   "metadata": {},
   "outputs": [
    {
     "name": "stdout",
     "output_type": "stream",
     "text": [
      "p =  7\n",
      "type(p) = <class 'int'>\n"
     ]
    }
   ],
   "source": [
    "p = 7\n",
    "print('p = ', p)\n",
    "print('type(p) =', type(p))"
   ]
  },
  {
   "cell_type": "code",
   "execution_count": 83,
   "metadata": {
    "scrolled": true
   },
   "outputs": [
    {
     "name": "stdout",
     "output_type": "stream",
     "text": [
      "x =  2.0\n",
      "type(x) = <class 'float'>\n"
     ]
    }
   ],
   "source": [
    "x = 2.\n",
    "print('x = ', x)\n",
    "print('type(x) =', type(x))"
   ]
  },
  {
   "cell_type": "markdown",
   "metadata": {},
   "source": [
    "**1.3** Donner le type et la valeur des expressions suivantes :\n",
    "\n",
    "       a. x+n/p\n",
    "       b. (x+n)/p\n",
    "       c. 5. * n\n",
    "       d. (n + 1) / n\n",
    "       e. (n + 1) // n\n",
    "       f. (n + 1.) // n\n",
    "    \n",
    "Vérifiez vos résultats en exécutant les instructions dans la cellule ci-dessous."
   ]
  },
  {
   "cell_type": "code",
   "execution_count": 84,
   "metadata": {},
   "outputs": [
    {
     "name": "stdout",
     "output_type": "stream",
     "text": [
      "x+n/p =  3.428571428571429 est de type <class 'float'>\n"
     ]
    }
   ],
   "source": [
    "res = x+n/p\n",
    "print('x+n/p = ', res, 'est de type', type(res))"
   ]
  },
  {
   "cell_type": "code",
   "execution_count": 85,
   "metadata": {},
   "outputs": [
    {
     "name": "stdout",
     "output_type": "stream",
     "text": [
      "(x+n)/p =  1.7142857142857142 est de type <class 'float'>\n"
     ]
    }
   ],
   "source": [
    "res =(x+n)/p\n",
    "print('(x+n)/p = ', res, 'est de type', type(res))"
   ]
  },
  {
   "cell_type": "code",
   "execution_count": 86,
   "metadata": {},
   "outputs": [
    {
     "name": "stdout",
     "output_type": "stream",
     "text": [
      "5.*n =  50.0 est de type <class 'float'>\n"
     ]
    }
   ],
   "source": [
    "res = 5.*n\n",
    "print('5.*n = ', res, 'est de type', type(res))"
   ]
  },
  {
   "cell_type": "code",
   "execution_count": 87,
   "metadata": {},
   "outputs": [
    {
     "name": "stdout",
     "output_type": "stream",
     "text": [
      "(n+1)/n =  1.1 est de type <class 'float'>\n"
     ]
    }
   ],
   "source": [
    "res = (n+1)/n\n",
    "print('(n+1)/n = ', res, 'est de type', type(res))"
   ]
  },
  {
   "cell_type": "code",
   "execution_count": 88,
   "metadata": {},
   "outputs": [
    {
     "name": "stdout",
     "output_type": "stream",
     "text": [
      "(n+1)//n =  1 est de type <class 'int'>\n"
     ]
    }
   ],
   "source": [
    "res = (n+1)//n\n",
    "print('(n+1)//n = ', res, 'est de type', type(res))"
   ]
  },
  {
   "cell_type": "code",
   "execution_count": 89,
   "metadata": {},
   "outputs": [
    {
     "name": "stdout",
     "output_type": "stream",
     "text": [
      "(n+1.)//n =  1.0 est de type <class 'float'>\n"
     ]
    }
   ],
   "source": [
    "res = (n+1.)//n\n",
    "print('(n+1.)//n = ', res, 'est de type', type(res))"
   ]
  },
  {
   "cell_type": "markdown",
   "metadata": {},
   "source": [
    "### 2. Entrées / sorties"
   ]
  },
  {
   "cell_type": "markdown",
   "metadata": {},
   "source": [
    "**2.1** Ecrire un programme qui demande à l’utilisateur un entier puis l’affiche. Un exemple d’éxécution est donné ci-dessous :\n",
    "\n",
    "    Veuillez entrer un entier : 42\n",
    "    Vous avez saisi 42"
   ]
  },
  {
   "cell_type": "code",
   "execution_count": 4,
   "metadata": {},
   "outputs": [
    {
     "name": "stdout",
     "output_type": "stream",
     "text": [
      "Veuillez entrer un entier : lolo\n",
      "<class 'str'>\n"
     ]
    }
   ],
   "source": [
    "n = input('Veuillez entrer un entier : ')\n",
    "print(type(n))"
   ]
  },
  {
   "cell_type": "code",
   "execution_count": 5,
   "metadata": {},
   "outputs": [
    {
     "name": "stdout",
     "output_type": "stream",
     "text": [
      "Veuillez entrer un entier : 15\n",
      "Vous avez saisi 15\n",
      "<class 'int'>\n"
     ]
    }
   ],
   "source": [
    "n = int(input('Veuillez entrer un entier : '))\n",
    "print('Vous avez saisi', n)\n",
    "print(type(n))"
   ]
  },
  {
   "cell_type": "markdown",
   "metadata": {},
   "source": [
    "**2.2** Compléter le programme précédent pour qu’il demande aussi un réel puis affiche les 2 valeurs saisies. Un exemple d’exécution est donné ci-dessous :\n",
    "\n",
    "    Veuillez entrer un entier : 42\n",
    "    Veuillez entrer un réel : 13.37\n",
    "    Vous avez saisi 42 et 13.37"
   ]
  },
  {
   "cell_type": "code",
   "execution_count": 6,
   "metadata": {},
   "outputs": [
    {
     "name": "stdout",
     "output_type": "stream",
     "text": [
      "Veuillez entrer un entier : 12\n",
      "Veuillez entrer un réel : 5.3\n",
      "Vous avez saisi 12  et 5.3\n"
     ]
    }
   ],
   "source": [
    "n = int(input('Veuillez entrer un entier : '))\n",
    "x = float(input('Veuillez entrer un réel : '))\n",
    "print('Vous avez saisi', n, ' et', x)"
   ]
  },
  {
   "cell_type": "markdown",
   "metadata": {},
   "source": [
    "**2.3** Ecrire un programme qui demande à l’utilisateur un charactère puis affiche le caractère et son code ASCII. On rappelle que le code ASCII d’une lettre correspond à un entier donnant sa position dans la table ASCII ; on pourra l’obtenir par l’appel à la fonction ord. Un exemple d’exécution est donné ci-dessous :\n",
    "\n",
    "    Veuillez entrer un charactère : b\n",
    "    Vous avez saisi b dont le code ASCII est 98"
   ]
  },
  {
   "cell_type": "code",
   "execution_count": 92,
   "metadata": {},
   "outputs": [
    {
     "name": "stdout",
     "output_type": "stream",
     "text": [
      "Veuillez entrer un charactère : m\n",
      "Vous avez saisi m dont le code ASCII est  109\n"
     ]
    }
   ],
   "source": [
    "char = input('Veuillez entrer un charactère : ')\n",
    "print('Vous avez saisi', char, 'dont le code ASCII est ', ord(char))"
   ]
  },
  {
   "cell_type": "markdown",
   "metadata": {},
   "source": [
    "### 3. Structures de contrôle\n",
    "\n",
    "**3.1** Ecrire un programme qui demande un nombre à l'utilisateur et teste si ce nombre est positif."
   ]
  },
  {
   "cell_type": "code",
   "execution_count": 93,
   "metadata": {},
   "outputs": [
    {
     "name": "stdout",
     "output_type": "stream",
     "text": [
      "Saisir un nombre : 5\n",
      "5.0 est > 0\n"
     ]
    }
   ],
   "source": [
    "nombre = float(input('Saisir un nombre : '))\n",
    "if nombre>0 :\n",
    "    print(nombre, 'est > 0')\n",
    "else :\n",
    "    print(nombre, 'est <= 0')"
   ]
  },
  {
   "cell_type": "markdown",
   "metadata": {},
   "source": [
    "**3.2** Ecrire un programme qui demande un nombre à l’utilisateur et teste si ce nombre est strictement positif, nul\n",
    "ou strictement négatif."
   ]
  },
  {
   "cell_type": "code",
   "execution_count": 8,
   "metadata": {},
   "outputs": [
    {
     "name": "stdout",
     "output_type": "stream",
     "text": [
      "Saisir un nombre : -12.\n",
      "-12.0 est < 0\n"
     ]
    }
   ],
   "source": [
    "nombre = float(input('Saisir un nombre : '))\n",
    "if nombre>0 :\n",
    "    print(nombre, 'est > 0')\n",
    "elif nombre<0 :\n",
    "    print(nombre, 'est < 0')\n",
    "else :\n",
    "    print(nombre, 'est = 0')"
   ]
  },
  {
   "cell_type": "markdown",
   "metadata": {},
   "source": [
    "**3.3** Ecrire un programme qui demande une année et affiche si celle-ci est bissextile ou non. Les années bissextiles\n",
    "sont les années : soit divisibles par 4 mais non divisibles par 100, soit divisibles par 400."
   ]
  },
  {
   "cell_type": "code",
   "execution_count": 11,
   "metadata": {},
   "outputs": [
    {
     "name": "stdout",
     "output_type": "stream",
     "text": [
      "Saisir une année  : 1900\n",
      "1900 n'est pas une année bissextile\n"
     ]
    }
   ],
   "source": [
    "annee = int(input('Saisir une année  : '))\n",
    "bissextile = (annee % 4 == 0) and not (annee % 100 == 0)\n",
    "bissextile = bissextile or (annee % 400 == 0)\n",
    "if bissextile :\n",
    "    print(annee, 'est une année bissextile')\n",
    "else :\n",
    "    print(annee, 'n\\'est pas une année bissextile')"
   ]
  },
  {
   "cell_type": "code",
   "execution_count": 13,
   "metadata": {},
   "outputs": [
    {
     "name": "stdout",
     "output_type": "stream",
     "text": [
      "Saisir une année  : 2000\n",
      "2000 n'est pas une année bissextile\n"
     ]
    }
   ],
   "source": [
    "annee = int(input('Saisir une année  : '))\n",
    "\n",
    "bisssextile = ((annee%4 == 0) and not (annee%100 == 0)) or (annee % 400 == 0) \n",
    "\n",
    "if bissextile :\n",
    "    print(annee, 'est une année bissextile')\n",
    "else :\n",
    "    print(annee, 'n\\'est pas une année bissextile')"
   ]
  },
  {
   "cell_type": "markdown",
   "metadata": {},
   "source": [
    "### 4. Fonctions, boucles et premiers algorithmes"
   ]
  },
  {
   "cell_type": "markdown",
   "metadata": {},
   "source": [
    "**4.1** Ecrire une _fonction_ qui calcule et renvoie la somme des N premiers entiers. N est un paramètre d'entrée de la fonction. Tester la fonction sur quelques exemples. Un exemple d’éxécution est donné ci-dessous :\n",
    "\n",
    "    Veuillez entrer un entier : 5\n",
    "    La somme des 5 premiers entiers est 15"
   ]
  },
  {
   "cell_type": "code",
   "execution_count": 14,
   "metadata": {},
   "outputs": [],
   "source": [
    "def somme(N) :\n",
    "    res = 0\n",
    "    for i in range(1,N+1) :\n",
    "        res += i\n",
    "    return res"
   ]
  },
  {
   "cell_type": "code",
   "execution_count": 15,
   "metadata": {},
   "outputs": [
    {
     "name": "stdout",
     "output_type": "stream",
     "text": [
      "Saisir une entier : 4\n",
      "La somme des 4 premiers entiers est 10\n"
     ]
    }
   ],
   "source": [
    "N = int(input('Saisir une entier : '))\n",
    "print('La somme des', N, 'premiers entiers est',somme(N))"
   ]
  },
  {
   "cell_type": "markdown",
   "metadata": {},
   "source": [
    "**4.2** Ecrire une _fonction_ qui calcule et renvoie N!, où N est un paramètre d'entrée de la fonction. Tester la fonction sur quelques exemples. Un exemple d’éxécution est donné ci-dessous :\n",
    "\n",
    "    Veuillez entrer un entier : 5\n",
    "    5! = 120"
   ]
  },
  {
   "cell_type": "code",
   "execution_count": 98,
   "metadata": {},
   "outputs": [],
   "source": [
    "def factorielle(N) :\n",
    "    res = 1\n",
    "    for i in range(2,N+1) :\n",
    "        res *= i\n",
    "    return res"
   ]
  },
  {
   "cell_type": "code",
   "execution_count": 99,
   "metadata": {},
   "outputs": [
    {
     "name": "stdout",
     "output_type": "stream",
     "text": [
      "Saisir une entier : 7\n",
      "7 ! =  5040\n"
     ]
    }
   ],
   "source": [
    "N = int(input('Saisir une entier : '))\n",
    "print(N, '! = ',factorielle(N))"
   ]
  },
  {
   "cell_type": "markdown",
   "metadata": {},
   "source": [
    "**4.3** Ecrire une _fonction_ qui calcule et renvoie x^N, où x et N sont des paramètres d'entrée de la fonction. Tester la fonction sur quelques exemples. Un exemple d’éxécution est donné ci-dessous :\n",
    "\n",
    "    Veuillez entrer un réel : 2.5\n",
    "    Veuillez entrer un entier positif : 3\n",
    "    2.5^3 = 15.625"
   ]
  },
  {
   "cell_type": "code",
   "execution_count": 100,
   "metadata": {},
   "outputs": [],
   "source": [
    "def puissance(x, N) :\n",
    "    res = 1\n",
    "    for i in range(1,N+1) :\n",
    "        res *= x\n",
    "    return res"
   ]
  },
  {
   "cell_type": "code",
   "execution_count": 101,
   "metadata": {},
   "outputs": [
    {
     "name": "stdout",
     "output_type": "stream",
     "text": [
      "Saisir une réel : 5\n",
      "Saisir une entier : 3\n",
      "5.0 ^ 3  =  125.0\n"
     ]
    }
   ],
   "source": [
    "x = float(input('Saisir une réel : '))\n",
    "N = int(input('Saisir une entier : '))\n",
    "print(x,'^',N, ' = ',puissance(x,N))"
   ]
  },
  {
   "cell_type": "markdown",
   "metadata": {},
   "source": [
    "**4.4** Ecrire une _fonction_ qui utilise le développement en série de exp pour calculer une valeur approchée de exp(x), avec une précision donnée eps = 10^(-n). x et n sont les paramètres d'entrée de la fonction. La fonction renvoie la valeur de exp(x) ainsi que le nombre de termes du développement en série utilisé pour la précision considérée. Tester la fonction sur quelques exemples. Vérifier vos résultats avec la fonction native _exp_. Un exemple d’éxécution est donné ci-dessous :\n",
    "\n",
    "    Calcul de exp(x) à 10^-n près :\n",
    "    Veuillez entrer x : 2.\n",
    "    Veuillez entrer n : 3 \n",
    "    Résultat : exp(2.0) = \n",
    "    exp(2.0) = 7.3887125220458545 - calcul avec 10 terme(s)\n",
    "    Vérification : math.exp(x) = 7.38905609893065"
   ]
  },
  {
   "cell_type": "code",
   "execution_count": 102,
   "metadata": {},
   "outputs": [],
   "source": [
    "def exponentielle(x,n) :\n",
    "    eps = 10**(-n)\n",
    "    exp = 0\n",
    "    increment = 1\n",
    "    k = 0\n",
    "    while (increment > eps) :\n",
    "        exp += increment\n",
    "        k += 1\n",
    "        increment = increment * x / k\n",
    "    return exp, k"
   ]
  },
  {
   "cell_type": "code",
   "execution_count": 103,
   "metadata": {},
   "outputs": [
    {
     "name": "stdout",
     "output_type": "stream",
     "text": [
      "Calcul de exp(x) à 10^-n près :\n",
      "Veuillez saisir x : 5\n",
      "Veuillez saisir n : 3\n",
      "Résultat : exp( 5.0 ) =  148.41235524670313\n",
      "Calcul avec 18 termes\n",
      "Vérification : math.exp(x) = 148.4131591025766\n"
     ]
    }
   ],
   "source": [
    "import math\n",
    "print('Calcul de exp(x) à 10^-n près :')\n",
    "x = float(input('Veuillez saisir x : '))\n",
    "n = int(input('Veuillez saisir n : '))\n",
    "resultat = exponentielle(x,n)\n",
    "print('Résultat : exp(',x,') = ',resultat[0])\n",
    "print('Calcul avec', resultat[1], 'termes')\n",
    "print('Vérification : math.exp(x) =', math.exp(x))"
   ]
  },
  {
   "cell_type": "markdown",
   "metadata": {},
   "source": [
    "### 5. Boucles imbriquées"
   ]
  },
  {
   "cell_type": "markdown",
   "metadata": {},
   "source": [
    "**5.1** Ecrire une fonction qui affiche un échiquier de largeur N, où N est un paramètre d'entrée de la fonction. L'échiquier est un carré de côté N, dessiné avec les conventions suivantes : (a) les cases noires sont représentées par un ”X” et les cases blanches par ” ”, (b) le tour de l’échiquier et de chaque case est représenté par les caractères + (coin), | (ligne verticale) et - (ligne horizontale). \n",
    "\n",
    "Tester la fonction sur quelques exemples. Un exemple d’affichage est  montré ci-dessous ( échiquier 4x4) :\n",
    "\n",
    "    Veuillez entrer un entier : 4\n",
    "    Voici un échiquier 4x4\n",
    "    +---+---+---+---+\n",
    "    |   | X |   | X |\n",
    "    +---+---+---+---+\n",
    "    | X |   | X |   |\n",
    "    +---+---+---+---+\n",
    "    |   | X |   | X |\n",
    "    +---+---+---+---+\n",
    "    | X |   | X |   |\n",
    "    +---+---+---+---+"
   ]
  },
  {
   "cell_type": "code",
   "execution_count": 104,
   "metadata": {},
   "outputs": [],
   "source": [
    "def grille(N) :\n",
    "    ligne = '+---+'\n",
    "    for i in range(1,N) :\n",
    "        ligne += '---+'\n",
    "    motif = [' X |', '   |']\n",
    "    rangee = ['|   |', '| X |']\n",
    "    for i in range(1,N) :\n",
    "        rangee[0] += motif[(i+1)%2]\n",
    "        rangee[1] += motif[i%2]\n",
    "    print(ligne)\n",
    "    for i in range(N) :\n",
    "        print(rangee[i%2])\n",
    "        print(ligne)"
   ]
  },
  {
   "cell_type": "code",
   "execution_count": 105,
   "metadata": {},
   "outputs": [
    {
     "name": "stdout",
     "output_type": "stream",
     "text": [
      "Veuillez saisir un entier : 6\n",
      "+---+---+---+---+---+---+\n",
      "|   | X |   | X |   | X |\n",
      "+---+---+---+---+---+---+\n",
      "| X |   | X |   | X |   |\n",
      "+---+---+---+---+---+---+\n",
      "|   | X |   | X |   | X |\n",
      "+---+---+---+---+---+---+\n",
      "| X |   | X |   | X |   |\n",
      "+---+---+---+---+---+---+\n",
      "|   | X |   | X |   | X |\n",
      "+---+---+---+---+---+---+\n",
      "| X |   | X |   | X |   |\n",
      "+---+---+---+---+---+---+\n"
     ]
    }
   ],
   "source": [
    "N = int(input('Veuillez saisir un entier : '))\n",
    "grille(N)"
   ]
  },
  {
   "cell_type": "markdown",
   "metadata": {},
   "source": [
    "**5.2** Ecrire une fonction qui affiche une pyramide droite de N lignes composées d'un caractère c, où N et c sont des paramètres d'entrée de la fonction. \n",
    "Tester la fonction sur quelques exemples. Un exemple d’affichage est  montré ci-dessous :\n",
    "\n",
    "    Veuillez entrer un entier : 4\n",
    "    Veuillez entrer un caractère : h\n",
    "    Voici la pyramide :\n",
    "    h\n",
    "    hh\n",
    "    hhh\n",
    "    hhhh"
   ]
  },
  {
   "cell_type": "code",
   "execution_count": 106,
   "metadata": {},
   "outputs": [],
   "source": [
    "def pyramide(c,N) :\n",
    "    for i in range(N) :\n",
    "        print((i+1)*c)"
   ]
  },
  {
   "cell_type": "code",
   "execution_count": 108,
   "metadata": {},
   "outputs": [
    {
     "name": "stdout",
     "output_type": "stream",
     "text": [
      "Veuillez saisir un entier : 10\n",
      "Veuillez saisir un caractère : r\n",
      "r\n",
      "rr\n",
      "rrr\n",
      "rrrr\n",
      "rrrrr\n",
      "rrrrrr\n",
      "rrrrrrr\n",
      "rrrrrrrr\n",
      "rrrrrrrrr\n",
      "rrrrrrrrrr\n"
     ]
    }
   ],
   "source": [
    "N = int(input('Veuillez saisir un entier : '))\n",
    "c = input('Veuillez saisir un caractère : ')\n",
    "pyramide(c,N)"
   ]
  },
  {
   "cell_type": "code",
   "execution_count": null,
   "metadata": {},
   "outputs": [],
   "source": []
  }
 ],
 "metadata": {
  "kernelspec": {
   "display_name": "Python 3",
   "language": "python",
   "name": "python3"
  },
  "language_info": {
   "codemirror_mode": {
    "name": "ipython",
    "version": 3
   },
   "file_extension": ".py",
   "mimetype": "text/x-python",
   "name": "python",
   "nbconvert_exporter": "python",
   "pygments_lexer": "ipython3",
   "version": "3.8.8"
  }
 },
 "nbformat": 4,
 "nbformat_minor": 2
}
