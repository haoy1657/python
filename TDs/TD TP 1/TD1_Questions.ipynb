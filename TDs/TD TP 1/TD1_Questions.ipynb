{
 "cells": [
  {
   "cell_type": "markdown",
   "source": [
    "# TD/TP 1 : Démarrer en python"
   ],
   "metadata": {}
  },
  {
   "cell_type": "markdown",
   "source": [
    "### 1. Types de variables"
   ],
   "metadata": {}
  },
  {
   "cell_type": "markdown",
   "source": [
    "**1.1** Les instructions suivantes créent et initialisent les variables n, p et x. Quels sont les types de ces trois variables ?\n",
    "\n",
    "    n = 10 \n",
    "    p = 7 \n",
    "    x = 2. "
   ],
   "metadata": {}
  },
  {
   "cell_type": "markdown",
   "source": [
    "**1.2** Compléter et exécuter les cellules ci-dessous de façon à vérifier vos réponses."
   ],
   "metadata": {}
  },
  {
   "cell_type": "code",
   "execution_count": 5,
   "source": [
    "import numpy as np "
   ],
   "outputs": [],
   "metadata": {}
  },
  {
   "cell_type": "code",
   "execution_count": 2,
   "source": [
    "# instruction pour créer n \n",
    "n = 10 \n",
    "# instruction pour afficher la valeur de n\n",
    "print(n)\n",
    "# instruction pour renvoyer le type de n\n",
    "type(n)"
   ],
   "outputs": [
    {
     "output_type": "stream",
     "name": "stdout",
     "text": [
      "10\n"
     ]
    },
    {
     "output_type": "execute_result",
     "data": {
      "text/plain": [
       "int"
      ]
     },
     "metadata": {},
     "execution_count": 2
    }
   ],
   "metadata": {}
  },
  {
   "cell_type": "code",
   "execution_count": 3,
   "source": [
    "# instruction pour créer p\n",
    "p = 7\n",
    "# instruction pour afficher la valeur de p\n",
    "print(p)\n",
    "# instruction pour renvoyer le type de p\n",
    "type(p)\n"
   ],
   "outputs": [
    {
     "output_type": "stream",
     "name": "stdout",
     "text": [
      "7\n"
     ]
    },
    {
     "output_type": "execute_result",
     "data": {
      "text/plain": [
       "int"
      ]
     },
     "metadata": {},
     "execution_count": 3
    }
   ],
   "metadata": {}
  },
  {
   "cell_type": "code",
   "execution_count": 4,
   "source": [
    "# instruction pour créer x \n",
    "x = 2\n",
    "# instruction pour afficher la valeur de x\n",
    "print(x) \n",
    "# instruction pour renvoyer le type de x\n",
    "type(x)\n"
   ],
   "outputs": [
    {
     "output_type": "stream",
     "name": "stdout",
     "text": [
      "2\n"
     ]
    },
    {
     "output_type": "execute_result",
     "data": {
      "text/plain": [
       "int"
      ]
     },
     "metadata": {},
     "execution_count": 4
    }
   ],
   "metadata": {
    "scrolled": true
   }
  },
  {
   "cell_type": "markdown",
   "source": [
    "**1.3** Donner le type et la valeur des expressions suivantes :\n",
    "\n",
    "       a. x+n/p\n",
    "       b. (x+n)/p\n",
    "       c. 5. * n\n",
    "       d. (n + 1) / n\n",
    "       e. (n + 1) // n\n",
    "       f. (n + 1.) // n\n",
    "    \n",
    "Vérifiez vos résultats en exécutant les instructions dans la cellule ci-dessous."
   ],
   "metadata": {}
  },
  {
   "cell_type": "code",
   "execution_count": 5,
   "source": [
    "# instructions pour vérifier les réponses de la question a\n",
    "a = x+n/p ; print(\"a=\",a,\".Type :\", type(a)) "
   ],
   "outputs": [
    {
     "output_type": "stream",
     "name": "stdout",
     "text": [
      "a= 3.428571428571429 .Type : <class 'float'>\n"
     ]
    }
   ],
   "metadata": {}
  },
  {
   "cell_type": "code",
   "execution_count": 6,
   "source": [
    "# instructions pour vérifier les réponses de la question b\n",
    "b = (x+n)/p ; print(\"b=\",b,\".Type :\", type(b) )"
   ],
   "outputs": [
    {
     "output_type": "stream",
     "name": "stdout",
     "text": [
      "b= 1.7142857142857142 .Type : <class 'float'>\n"
     ]
    }
   ],
   "metadata": {}
  },
  {
   "cell_type": "code",
   "execution_count": 7,
   "source": [
    "# instructions pour vérifier les réponses de la question c\n",
    "c = 5.*n ;  print(\"c=\",c,\".Type :\", type(c))"
   ],
   "outputs": [
    {
     "output_type": "stream",
     "name": "stdout",
     "text": [
      "c= 50.0 .Type : <class 'float'>\n"
     ]
    }
   ],
   "metadata": {}
  },
  {
   "cell_type": "code",
   "execution_count": 8,
   "source": [
    "# instructions pour vérifier les réponses de la question d\n",
    "d = (n+1) / n ;  print(\"d=\",d,\".Type :\", type(d))"
   ],
   "outputs": [
    {
     "output_type": "stream",
     "name": "stdout",
     "text": [
      "d= 1.1 .Type : <class 'float'>\n"
     ]
    }
   ],
   "metadata": {}
  },
  {
   "cell_type": "code",
   "execution_count": 9,
   "source": [
    "# instructions pour vérifier les réponses de la question e\n",
    "e = (n+1) // n ;  print(\"e=\",e,\".Type :\", type(e)) # Division entiere"
   ],
   "outputs": [
    {
     "output_type": "stream",
     "name": "stdout",
     "text": [
      "e= 1 .Type : <class 'int'>\n"
     ]
    }
   ],
   "metadata": {}
  },
  {
   "cell_type": "code",
   "execution_count": 10,
   "source": [
    "# instructions pour vérifier les réponses de la question f\n",
    "f = (n+1.) // n ;  print(\"f=\",f,\".Type :\", type(f)) "
   ],
   "outputs": [
    {
     "output_type": "stream",
     "name": "stdout",
     "text": [
      "f= 1.0 .Type : <class 'float'>\n"
     ]
    }
   ],
   "metadata": {}
  },
  {
   "cell_type": "markdown",
   "source": [
    "### 2. Entrées / sorties"
   ],
   "metadata": {}
  },
  {
   "cell_type": "markdown",
   "source": [
    "**2.1** Ecrire un programme qui demande à l’utilisateur un entier puis l’affiche. Un exemple d’éxécution est donné ci-dessous :\n",
    "\n",
    "    Veuillez entrer un entier : 42\n",
    "    Vous avez saisi 42"
   ],
   "metadata": {}
  },
  {
   "cell_type": "code",
   "execution_count": 13,
   "source": [
    "# bloc d'instructions à compléter et à exécuter\n",
    "x  = int(input(\"veuillez saisir un entier :\"))\n",
    "print(\"vous avez saisi\",x)"
   ],
   "outputs": [
    {
     "output_type": "stream",
     "name": "stdout",
     "text": [
      "vous avez saisi 12\n"
     ]
    }
   ],
   "metadata": {}
  },
  {
   "cell_type": "markdown",
   "source": [
    "**2.2** Compléter le programme précédent pour qu’il demande aussi un réel puis affiche les 2 valeurs saisies. Un exemple d’exécution est donné ci-dessous :\n",
    "\n",
    "    Veuillez entrer un entier : 42\n",
    "    Veuillez entrer un réel : 13.37\n",
    "    Vous avez saisi 42 et 13.37"
   ],
   "metadata": {}
  },
  {
   "cell_type": "code",
   "execution_count": 14,
   "source": [
    "# bloc d'instructions à compléter et à exécuter\n",
    "x  = int(input(\"veuillez saisir un entier :\"))\n",
    "y = float(input(\"veuillez saisir un réel :\"))\n",
    "print(\"vous avez saisi\",x,\"et\",y)"
   ],
   "outputs": [
    {
     "output_type": "stream",
     "name": "stdout",
     "text": [
      "vous avez saisi 12 et 13.77\n"
     ]
    }
   ],
   "metadata": {}
  },
  {
   "cell_type": "markdown",
   "source": [
    "**2.3** Ecrire un programme qui demande à l’utilisateur un charactère puis affiche le caractère et son code ASCII. On rappelle que le code ASCII d’une lettre correspond à un entier donnant sa position dans la table ASCII ; on pourra l’obtenir par l’appel à la fonction ord. Un exemple d’exécution est donné ci-dessous :\n",
    "\n",
    "    Veuillez entrer un charactère : b\n",
    "    Vous avez saisi b dont le code ASCII est 98"
   ],
   "metadata": {}
  },
  {
   "cell_type": "code",
   "execution_count": 15,
   "source": [
    "# bloc d'instructions à compléter et à exécuter\n",
    "char= str(input(\"Veuillez saisir un charactère :\"))\n",
    "value = ord(char)\n",
    "print(\"Vous avez saisi\",char,\"dont le code ASCII est\",value)"
   ],
   "outputs": [
    {
     "output_type": "stream",
     "name": "stdout",
     "text": [
      "Vous avez saisi x dont le code ASCII est 120\n"
     ]
    }
   ],
   "metadata": {}
  },
  {
   "cell_type": "markdown",
   "source": [
    "### 3. Structures de contrôle\n",
    "\n",
    "**3.1** Ecrire un programme qui demande un nombre à l'utilisateur et teste si ce nombre est positif."
   ],
   "metadata": {}
  },
  {
   "cell_type": "code",
   "execution_count": 7,
   "source": [
    "# bloc d'instructions à compléter et à exécuter\n",
    "n = int(input(\"Saisir un nombre :\"))\n",
    "if np.sign(n) == + 1 : \n",
    "    print(\"Le nombre saisi est positif\")\n",
    "else : \n",
    "    print(\"il ne l'est pas\")\n",
    "\n"
   ],
   "outputs": [
    {
     "output_type": "stream",
     "name": "stdout",
     "text": [
      "il ne l'est pas\n"
     ]
    }
   ],
   "metadata": {}
  },
  {
   "cell_type": "markdown",
   "source": [
    "**3.2** Ecrire un programme qui demande un nombre à l’utilisateur et teste si ce nombre est strictement positif, nul\n",
    "ou strictement négatif."
   ],
   "metadata": {}
  },
  {
   "cell_type": "code",
   "execution_count": 17,
   "source": [
    "# bloc d'instructions à compléter et à exécuter\n",
    "n = int(input(\"Saisir un nombre :\"))\n",
    "if np.sign(n) == + 1 : \n",
    "    print(\"Le nombre saisi est positif\")\n",
    "if np.sign(n) == - 1 : \n",
    "    print(\"Le nombre saisi est négatif\")\n",
    "else : \n",
    "    print(\"Le nombre saisi est nul\")\n",
    "\n"
   ],
   "outputs": [
    {
     "output_type": "stream",
     "name": "stdout",
     "text": [
      "Le nombre saisi est négatif\n"
     ]
    }
   ],
   "metadata": {}
  },
  {
   "cell_type": "markdown",
   "source": [
    "**3.3** Ecrire un programme qui demande une année et affiche si celle-ci est bissextile ou non. Les années bissextiles\n",
    "sont les années : soit divisibles par 4 mais non divisibles par 100, soit divisibles par 400."
   ],
   "metadata": {}
  },
  {
   "cell_type": "code",
   "execution_count": 18,
   "source": [
    "# bloc d'instructions à compléter et à exécuter\n",
    "year = int(input(\"Saisir une année :\"))\n",
    "a = year % 4 ; b = year % 100 ; c = year % 400 \n",
    "if (a==0 and (b!=0)) or c==0 : \n",
    "    print(\"L'année\",year,\"est bissextile\")\n",
    "else : print(\"L'année\", year , \"n'est pas bissextile\")"
   ],
   "outputs": [
    {
     "output_type": "stream",
     "name": "stdout",
     "text": [
      "L'année 1936 est bissextile\n"
     ]
    }
   ],
   "metadata": {}
  },
  {
   "cell_type": "markdown",
   "source": [
    "### 4. Fonctions, boucles et premiers algorithmes"
   ],
   "metadata": {}
  },
  {
   "cell_type": "markdown",
   "source": [
    "**4.1** Ecrire une _fonction_ qui calcule et renvoie la somme des N premiers entiers. N est un paramètre d'entrée de la fonction. Tester la fonction sur quelques exemples. Un exemple d’éxécution est donné ci-dessous :\n",
    "\n",
    "    Veuillez entrer un entier : 5\n",
    "    La somme des 5 premiers entiers est 15"
   ],
   "metadata": {}
  },
  {
   "cell_type": "code",
   "execution_count": 20,
   "source": [
    "# bloc d'instructions à compléter et à exécuter\n",
    "\"\"\"\"def Sum(N) : \n",
    "    \n",
    "    S = 0 # Initialisation \n",
    "    for k in range(1,N+1) : # k allant de 1 à N \n",
    "        S += k  # A chaque tour , on somme les indices \n",
    "    \n",
    "    return S \n",
    "\n",
    "N = int(input(\"Veuillez entrer un entier:\"))\n",
    "Sum(N)\"\"\"\n",
    "\n",
    "\n",
    "\n",
    "# Une deuxieme approche : \n",
    "def Somme(K) : \n",
    "    Somme = [i for i in range(K+1)] # Tableau de valeurs allant de 0 à K \n",
    "    Summ = sum(Somme) # Fonction de sommation \n",
    "    \n",
    "    return Summ \n",
    "\n",
    "K = int(input(\"Veuillez entrer un entier:\"))\n",
    "print(\"La somme des des\",K,\"premiers entiers est\",Somme(K))\n",
    "\n",
    "\n",
    "\n"
   ],
   "outputs": [
    {
     "output_type": "execute_result",
     "data": {
      "text/plain": [
       "21"
      ]
     },
     "metadata": {},
     "execution_count": 20
    }
   ],
   "metadata": {}
  },
  {
   "cell_type": "markdown",
   "source": [
    "**4.2** Ecrire une _fonction_ qui calcule et renvoie N!, où N est un paramètre d'entrée de la fonction. Tester la fonction sur quelques exemples. Un exemple d’éxécution est donné ci-dessous :\n",
    "\n",
    "    Veuillez entrer un entier : 5\n",
    "    5! = 120"
   ],
   "metadata": {}
  },
  {
   "cell_type": "code",
   "execution_count": 8,
   "source": [
    "# bloc d'instructions à compléter et à exécuter\n",
    "def Fact(N) : \n",
    "    F = 1 \n",
    "    for i in range (1,N+1) : # de 1 à N \n",
    "        F *= i    \n",
    "        \n",
    "    return F\n",
    "    \n",
    "\n",
    "K = int(input(\"Veuillez entrer un entier:\"))\n",
    "print(K,\"! vaut:\",Fact(K))\n",
    "\n"
   ],
   "outputs": [
    {
     "output_type": "stream",
     "name": "stdout",
     "text": [
      "7 ! vaut: 5040\n"
     ]
    }
   ],
   "metadata": {}
  },
  {
   "cell_type": "markdown",
   "source": [
    "**4.3** Ecrire une _fonction_ qui calcule et renvoie x^N, où x et N sont des paramètres d'entrée de la fonction. Tester la fonction sur quelques exemples. Un exemple d’éxécution est donné ci-dessous :\n",
    "\n",
    "    Veuillez entrer un réel : 2.5\n",
    "    Veuillez entrer un entier positif : 3\n",
    "    2.5^3 = 15.625"
   ],
   "metadata": {}
  },
  {
   "cell_type": "code",
   "execution_count": 24,
   "source": [
    "# bloc d'instructions à compléter et à exécuter\n",
    "def Exposant(x,N) : \n",
    "    return x**N\n",
    "\n",
    "x = float(input(\"Veuillez enter un réel :\"))\n",
    "N = int(input(\"Veuillez enter un entier positif :\"))\n",
    "print(x,\"^\",N,\"=\",Exposant(x,N))"
   ],
   "outputs": [
    {
     "output_type": "stream",
     "name": "stdout",
     "text": [
      "7.0 ^ 3 = 343.0\n"
     ]
    }
   ],
   "metadata": {}
  },
  {
   "cell_type": "markdown",
   "source": [
    "**4.4** Ecrire une _fonction_ qui utilise le développement en série de exp pour calculer une valeur approchée de exp(x), avec une précision donnée eps = 10^(-n). x et n sont les paramètres d'entrée de la fonction. La fonction renvoie la valeur de exp(x) ainsi que le nombre de termes du développement en série utilisé pour la précision considérée. Tester la fonction sur quelques exemples. Vérifier vos résultats avec la fonction native _exp_. Un exemple d’éxécution est donné ci-dessous :\n",
    "\n",
    "    Calcul de exp(x) à 10^-n près :\n",
    "    Veuillez entrer x : 2.\n",
    "    Veuillez entrer n : 3 \n",
    "    Résultat : exp(2.0) = \n",
    "    exp(2.0) = 7.3887125220458545 - calcul avec 10 terme(s)\n",
    "    Vérification : math.exp(x) = 7.38905609893065"
   ],
   "metadata": {}
  },
  {
   "cell_type": "code",
   "execution_count": 3,
   "source": [
    "# bloc d'instructions à compléter et à exécuter\n",
    "\n",
    "# Definition du DL en 0 de l'exp \n",
    "\n",
    "\"\"\"def Exp(x,n) : \n",
    "    k  = [ i for i in range(n+1)] # k va de 0 à N \n",
    "    W = 0\n",
    "    for j in k : \n",
    "        W += Exposant(x,k[j]) / Fact(k[j])\n",
    "        \n",
    "    return W\n",
    "\n",
    "\n",
    "Exp(3,3)\"\"\" \n",
    "\n",
    "# Correction \n",
    "def exponentielle(x,n) :\n",
    "    eps = 10**(-n) # precision \n",
    "    exp = 0\n",
    "    increment = 1\n",
    "    k = 0\n",
    "    while (increment > eps) :\n",
    "        exp += increment\n",
    "        k += 1\n",
    "        increment = increment * x / k\n",
    "    return exp, k\n",
    "\n",
    "\n"
   ],
   "outputs": [],
   "metadata": {}
  },
  {
   "cell_type": "code",
   "execution_count": 4,
   "source": [
    "import math\n",
    "print('Calcul de exp(x) à 10^-n près :')\n",
    "x = float(input('Veuillez saisir x : '))\n",
    "n = int(input('Veuillez saisir n : '))\n",
    "resultat = exponentielle(x,n)\n",
    "print('Résultat : exp(',x,') = ',resultat[0])\n",
    "print('Calcul avec', resultat[1], 'termes')\n",
    "print('Vérification : math.exp(x) =', math.exp(x))"
   ],
   "outputs": [
    {
     "output_type": "stream",
     "name": "stdout",
     "text": [
      "Calcul de exp(x) à 10^-n près :\n",
      "Résultat : exp( 3.0 ) =  20.079665178571425\n",
      "Calcul avec 11 termes\n",
      "Vérification : math.exp(x) = 20.085536923187668\n"
     ]
    }
   ],
   "metadata": {}
  },
  {
   "cell_type": "markdown",
   "source": [
    "### 5. Boucles imbriquées"
   ],
   "metadata": {}
  },
  {
   "cell_type": "markdown",
   "source": [
    "**5.1** Ecrire une fonction qui affiche un échiquier de largeur N, où N est un paramètre d'entrée de la fonction. L'échiquier est un carré de côté N, dessiné avec les conventions suivantes : (a) les cases noires sont représentées par un ”X” et les cases blanches par ” ”, (b) le tour de l’échiquier et de chaque case est représenté par les caractères + (coin), | (ligne verticale) et - (ligne horizontale). \n",
    "\n",
    "Tester la fonction sur quelques exemples. Un exemple d’affichage est  montré ci-dessous ( échiquier 4x4) :\n",
    "\n",
    "    Veuillez entrer un entier : 4\n",
    "    Voici un échiquier 4x4\n",
    "    +---+---+---+---+\n",
    "    |   | X |   | X |\n",
    "    +---+---+---+---+\n",
    "    | X |   | X |   |\n",
    "    +---+---+---+---+\n",
    "    |   | X |   | X |\n",
    "    +---+---+---+---+\n",
    "    | X |   | X |   |\n",
    "    +---+---+---+---+"
   ],
   "metadata": {}
  },
  {
   "cell_type": "code",
   "execution_count": 69,
   "source": [
    "# bloc d'instructions à compléter et à exécuter\n",
    "\n",
    "def Echec(Z) : \n",
    "   \n",
    "   ligne = ('+---')  ; nb  = ('| X |' , '   ') ;  bn = ('|   |', ' X ')\n",
    "   for i in range(Z+1) : # Parcours de lignes\n",
    "      print(ligne*Z,'+',sep='') ; nb *= Z ; bn *= Z\n",
    "      \n",
    "      for j in range(Z) : # Parcours de cases\n",
    "        \n",
    "        if i != Z and i % 2 == 0 : # Ligne paire\n",
    "           print(bn[j],end='') \n",
    "           if Z % 2==0 and j == Z-1 : print('|','') # Fermeture droite du carré pour Z pair \n",
    "           elif Z % 2!= 0 and j == Z-1 : print('')\n",
    "           \n",
    "        elif  i != Z and i % 2 != 0: # Ligne Impaire \n",
    "          print(nb[j],end='') \n",
    "          if Z % 2==0 and j == Z-1 : print('|','') # Fermeture droite du carré pour Z pair \n",
    "          elif Z % 2!= 0 and j == Z-1 : print('') \n",
    "\n",
    "       \n",
    "\n",
    "\n",
    "\n",
    "Z = int(input(\"Veuillez entrer un entier : \"))   \n",
    "Echec(Z) ; print(\"\\n\")\n",
    "Echec(Z-1)\n"
   ],
   "outputs": [
    {
     "output_type": "stream",
     "name": "stdout",
     "text": [
      "+---+---+---+---+---+---+\n",
      "|   | X |   | X |   | X | \n",
      "+---+---+---+---+---+---+\n",
      "| X |   | X |   | X |   | \n",
      "+---+---+---+---+---+---+\n",
      "|   | X |   | X |   | X | \n",
      "+---+---+---+---+---+---+\n",
      "| X |   | X |   | X |   | \n",
      "+---+---+---+---+---+---+\n",
      "|   | X |   | X |   | X | \n",
      "+---+---+---+---+---+---+\n",
      "| X |   | X |   | X |   | \n",
      "+---+---+---+---+---+---+\n",
      "\n",
      "\n",
      "+---+---+---+---+---+\n",
      "|   | X |   | X |   |\n",
      "+---+---+---+---+---+\n",
      "| X |   | X |   | X |\n",
      "+---+---+---+---+---+\n",
      "|   | X |   | X |   |\n",
      "+---+---+---+---+---+\n",
      "| X |   | X |   | X |\n",
      "+---+---+---+---+---+\n",
      "|   | X |   | X |   |\n",
      "+---+---+---+---+---+\n"
     ]
    }
   ],
   "metadata": {}
  },
  {
   "cell_type": "markdown",
   "source": [
    "**5.2** Ecrire une fonction qui affiche une pyramide droite de N lignes composées d'un caractère c, où N et c sont des paramètres d'entrée de la fonction. \n",
    "Tester la fonction sur quelques exemples. Un exemple d’affichage est  montré ci-dessous :\n",
    "\n",
    "    Veuillez entrer un entier : 4\n",
    "    Veuillez entrer un caractère : h\n",
    "    Voici la pyramide :\n",
    "    h\n",
    "    hh\n",
    "    hhh\n",
    "    hhhh"
   ],
   "metadata": {}
  },
  {
   "cell_type": "code",
   "execution_count": 25,
   "source": [
    "# bloc d'instructions à compléter et à exécuter\n",
    "def Pyramide(N,c) : \n",
    "   \n",
    "  for i in range(1,N+1) : \n",
    "      print(c*i,\"\\n\")\n",
    "    \n",
    "\n",
    "N = int(input(\"Veuillez entrer un entier :\"))\n",
    "c = str(input(\"Veuillez enter un caractère :\"))\n",
    "Pyramide(N,c)\n"
   ],
   "outputs": [
    {
     "output_type": "stream",
     "name": "stdout",
     "text": [
      "Q \n",
      "\n",
      "QQ \n",
      "\n",
      "QQQ \n",
      "\n",
      "QQQQ \n",
      "\n",
      "QQQQQ \n",
      "\n",
      "QQQQQQ \n",
      "\n",
      "QQQQQQQ \n",
      "\n"
     ]
    }
   ],
   "metadata": {}
  }
 ],
 "metadata": {
  "kernelspec": {
   "name": "python3",
   "display_name": "Python 3.8.8 64-bit ('base': conda)"
  },
  "language_info": {
   "codemirror_mode": {
    "name": "ipython",
    "version": 3
   },
   "file_extension": ".py",
   "mimetype": "text/x-python",
   "name": "python",
   "nbconvert_exporter": "python",
   "pygments_lexer": "ipython3",
   "version": "3.8.8"
  },
  "interpreter": {
   "hash": "6aa1a8b2ed28e89771df5352948886da4de96dc4e60e47b144f18524ed7d54c2"
  }
 },
 "nbformat": 4,
 "nbformat_minor": 2
}
